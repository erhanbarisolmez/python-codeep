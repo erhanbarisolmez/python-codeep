{
 "cells": [
  {
   "cell_type": "code",
   "execution_count": 142,
   "metadata": {},
   "outputs": [],
   "source": [
    "import re"
   ]
  },
  {
   "cell_type": "code",
   "execution_count": 143,
   "metadata": {},
   "outputs": [
    {
     "name": "stdout",
     "output_type": "stream",
     "text": [
      "<re.Match object; span=(0, 3), match='cem'>\n",
      "match found!\n"
     ]
    }
   ],
   "source": [
    "s1 = \"cem yılmaz is the best\"\n",
    "\n",
    "pattern = r\"cem\"\n",
    "\n",
    "result = re.search(pattern, s1)\n",
    "print(result)\n",
    "if result: \n",
    "    print(\"match found!\")\n",
    "else:\n",
    "    print(\"match not found\")"
   ]
  },
  {
   "cell_type": "code",
   "execution_count": 144,
   "metadata": {},
   "outputs": [
    {
     "name": "stdout",
     "output_type": "stream",
     "text": [
      "Phone number found: 1234567890\n"
     ]
    }
   ],
   "source": [
    "pattern = r\"\\d\\d\\d\\d\\d\\d\\d\\d\\d\\d\" # Ardışık herhangi on rakamı eşleştir\n",
    "text = \"My Phone number is 1234567890\"\n",
    "\n",
    "match = re.search(pattern, text)\n",
    "\n",
    "if match:\n",
    "    print(\"Phone number found:\", match.group())\n",
    "else:\n",
    "    print(\"No much\")"
   ]
  },
  {
   "cell_type": "code",
   "execution_count": 145,
   "metadata": {},
   "outputs": [
    {
     "name": "stdout",
     "output_type": "stream",
     "text": [
      "Matches [' ', '!']\n"
     ]
    }
   ],
   "source": [
    "pattern = r\"\\W\" # Kelime olmayan herhangi bir karakterle eşleştir \n",
    "\n",
    "text = \"Hello World!\"\n",
    "matches = re.findall(pattern, text)\n",
    "\n",
    "print(\"Matches\", matches)"
   ]
  },
  {
   "cell_type": "code",
   "execution_count": 146,
   "metadata": {},
   "outputs": [
    {
     "name": "stdout",
     "output_type": "stream",
     "text": [
      "['up']\n"
     ]
    }
   ],
   "source": [
    "s2 = \"cem yılmaz, stand-up gösterileri ve komedi filmlerindeki rolleriyle tanınan bir türk komedyen ve aktördür.\"\n",
    "\n",
    "# Dizede \"ko\" sözcüğünün tüm geçtiği yerleri bulmak için findall() işlevini kullanın\n",
    "\n",
    "result  = re.findall(\"up\", s2)\n",
    "\n",
    "# Eşleşen sözcüklerin listesini yazdır\n",
    "\n",
    "print(result)"
   ]
  },
  {
   "cell_type": "code",
   "execution_count": 147,
   "metadata": {},
   "outputs": [
    {
     "name": "stdout",
     "output_type": "stream",
     "text": [
      "['cem', 'yılmaz,', 'stand-up', 'gösterileri', 've', 'komedi', 'filmlerindeki', 'rolleriyle', 'tanınan', 'bir', 'türk', 'komedyen', 've', 'aktördür.']\n"
     ]
    },
    {
     "name": "stderr",
     "output_type": "stream",
     "text": [
      "<>:1: SyntaxWarning: invalid escape sequence '\\s'\n",
      "<>:1: SyntaxWarning: invalid escape sequence '\\s'\n",
      "C:\\Users\\omen-\\AppData\\Local\\Temp\\ipykernel_24012\\2034545960.py:1: SyntaxWarning: invalid escape sequence '\\s'\n",
      "  split_array = re.split(\"\\s\", s2)\n"
     ]
    }
   ],
   "source": [
    "split_array = re.split(\"\\s\", s2)\n",
    "# split_array, boşluk karakterleriyle bölünmüş tüm alt dizeleri içerir.\n",
    "print(split_array)"
   ]
  },
  {
   "cell_type": "code",
   "execution_count": 148,
   "metadata": {},
   "outputs": [
    {
     "name": "stdout",
     "output_type": "stream",
     "text": [
      "cem yılmaz, stand-up gösterileri ve comedy filmlerindeki rolleriyle tanınan bir türk komedyen ve aktördür.\n"
     ]
    }
   ],
   "source": [
    "pattern = r\"komedi\" # aranacak ifade kalıbı\n",
    "\n",
    "replacement = \"comedy\" # değiştirilecek dizi\n",
    "\n",
    "new_string = re.sub(pattern, replacement, s2, flags=re.IGNORECASE) # deseni değiştirme dizesiyle değiştirmek içlin alt işlevi kullanın \n",
    "print(new_string) # orjinal dizeyi içerir ve desen, değiştirme dizesi değiştirilir\n",
    "\n"
   ]
  },
  {
   "cell_type": "code",
   "execution_count": 149,
   "metadata": {},
   "outputs": [
    {
     "data": {
      "text/plain": [
       "dict"
      ]
     },
     "execution_count": 149,
     "metadata": {},
     "output_type": "execute_result"
    }
   ],
   "source": [
    "type([]) #list\n",
    "type({}) #dict"
   ]
  },
  {
   "cell_type": "code",
   "execution_count": 150,
   "metadata": {},
   "outputs": [
    {
     "name": "stdout",
     "output_type": "stream",
     "text": [
      "Negatif ve pozitif indeksleme kıllanarak aynı öğe: \n",
      " Pozitif:  cem yılmaz \n",
      " Negatif:  cem yılmaz\n",
      "Negatif ve pozitif indeksleme kıllanarak aynı öğe: \n",
      " Pozitif:  10.1 \n",
      " Negatif:  10.1\n",
      "Negatif ve pozitif indeksleme kıllanarak aynı öğe: \n",
      " Pozitif:  1982 \n",
      " Negatif:  1982\n"
     ]
    }
   ],
   "source": [
    "# Python Listeler\n",
    "\n",
    "L = [\"cem yılmaz\", 10.1, 1982]\n",
    "L\n",
    "\n",
    "# Her dizindeki öğeleri yazdırır\n",
    "\n",
    "print(\"Negatif ve pozitif indeksleme kıllanarak aynı öğe: \\n Pozitif: \", L[0],\n",
    "      \"\\n Negatif: \", L[-3])\n",
    "print(\"Negatif ve pozitif indeksleme kıllanarak aynı öğe: \\n Pozitif: \", L[1],\n",
    "      \"\\n Negatif: \", L[-2])\n",
    "print(\"Negatif ve pozitif indeksleme kıllanarak aynı öğe: \\n Pozitif: \", L[2],\n",
    "      \"\\n Negatif: \", L[-1])"
   ]
  },
  {
   "cell_type": "code",
   "execution_count": 151,
   "metadata": {},
   "outputs": [
    {
     "name": "stdout",
     "output_type": "stream",
     "text": [
      "\n"
     ]
    }
   ],
   "source": [
    "# Örnek Liste\n",
    "\n",
    "[\"Cem Yılmaz\", 10.1, 1982, [1,2], (\"A\",1)] # type(()) -> Tuple\n",
    "print()\n"
   ]
  },
  {
   "cell_type": "code",
   "execution_count": 152,
   "metadata": {},
   "outputs": [
    {
     "data": {
      "text/plain": [
       "['cem yılmaz', 10.1, 1982, 'CM', 1]"
      ]
     },
     "execution_count": 152,
     "metadata": {},
     "output_type": "execute_result"
    }
   ],
   "source": [
    "# Örnek Liste\n",
    "L = [\"cem yılmaz\", 10.1,1982,\"CM\",1]\n",
    "L"
   ]
  },
  {
   "cell_type": "code",
   "execution_count": 153,
   "metadata": {},
   "outputs": [
    {
     "data": {
      "text/plain": [
       "5"
      ]
     },
     "execution_count": 153,
     "metadata": {},
     "output_type": "execute_result"
    }
   ],
   "source": [
    "# Liste dilimleme\n",
    "len(L)\n"
   ]
  },
  {
   "cell_type": "code",
   "execution_count": 154,
   "metadata": {},
   "outputs": [
    {
     "data": {
      "text/plain": [
       "['CM', 1]"
      ]
     },
     "execution_count": 154,
     "metadata": {},
     "output_type": "execute_result"
    }
   ],
   "source": [
    "L[3:5]"
   ]
  },
  {
   "cell_type": "code",
   "execution_count": 155,
   "metadata": {},
   "outputs": [
    {
     "data": {
      "text/plain": [
       "['Cem Yılmaz', 10.2, 'pop', 10]"
      ]
     },
     "execution_count": 155,
     "metadata": {},
     "output_type": "execute_result"
    }
   ],
   "source": [
    "# Listeye öğe eklemek için extand kullanın\n",
    "\n",
    "L = [\"Cem Yılmaz\", 10.2]\n",
    "L.extend(['pop',10])\n",
    "L"
   ]
  },
  {
   "cell_type": "code",
   "execution_count": 156,
   "metadata": {},
   "outputs": [
    {
     "data": {
      "text/plain": [
       "['Cem Yılmaz', 10.2, ['pop', 10]]"
      ]
     },
     "execution_count": 156,
     "metadata": {},
     "output_type": "execute_result"
    }
   ],
   "source": [
    "# Listeye öğe eklemek için append kullanın (liste çerisinde liste)\n",
    "\n",
    "L = [\"Cem Yılmaz\", 10.2]\n",
    "L.append([\"pop\", 10])\n",
    "L"
   ]
  },
  {
   "cell_type": "code",
   "execution_count": 157,
   "metadata": {},
   "outputs": [
    {
     "data": {
      "text/plain": [
       "['Cem Yılmaz', 10.2, ['pop', 10], ['a', 'b']]"
      ]
     },
     "execution_count": 157,
     "metadata": {},
     "output_type": "execute_result"
    }
   ],
   "source": [
    "L.append(['a', 'b'])\n",
    "L"
   ]
  },
  {
   "cell_type": "code",
   "execution_count": 158,
   "metadata": {},
   "outputs": [
    {
     "name": "stdout",
     "output_type": "stream",
     "text": [
      "Before change: ['disco', 10, 1.2]\n",
      "After change: ['hard rock', 10, 1.2]\n"
     ]
    }
   ],
   "source": [
    "# Listeler değiştirilebilir olduğundan, onları değiştirebiliriz. Örneğin ilk elemanı aşağıdaki gibi değiştirebiliriz.\n",
    "\n",
    "A = [\"disco\", 10, 1.2]\n",
    "print(\"Before change:\", A)\n",
    "\n",
    "A[0] = 'hard rock'\n",
    "print(\"After change:\", A)"
   ]
  },
  {
   "cell_type": "code",
   "execution_count": 159,
   "metadata": {},
   "outputs": [
    {
     "name": "stdout",
     "output_type": "stream",
     "text": [
      "Before Change ['hard rock', 10, 1.2]\n",
      "After change: [10, 1.2]\n"
     ]
    }
   ],
   "source": [
    "# Ayrıca del komutunu kullanarak bir listenin bir öğesini silebiliriz.\n",
    "    # indeksi temel alarak öğeyi silme\n",
    "print('Before Change', A)\n",
    "del(A[0])\n",
    "print('After change:', A)"
   ]
  },
  {
   "cell_type": "code",
   "execution_count": 160,
   "metadata": {},
   "outputs": [
    {
     "data": {
      "text/plain": [
       "['hard', 'rock']"
      ]
     },
     "execution_count": 160,
     "metadata": {},
     "output_type": "execute_result"
    }
   ],
   "source": [
    "# Bir stringi split kullanaarak listeye dönüştürebiliriz.\n",
    "    # String böl, varsayılan değer boşluktur.\n",
    "a = 'hard rock'.split()\n",
    "a"
   ]
  },
  {
   "cell_type": "code",
   "execution_count": 161,
   "metadata": {},
   "outputs": [
    {
     "data": {
      "text/plain": [
       "['A', 'B', 'C', 'D']"
      ]
     },
     "execution_count": 161,
     "metadata": {},
     "output_type": "execute_result"
    }
   ],
   "source": [
    "# Diziyi virgülle bölme\n",
    "'A,B,C,D'.split(',')"
   ]
  },
  {
   "cell_type": "code",
   "execution_count": 162,
   "metadata": {},
   "outputs": [
    {
     "name": "stdout",
     "output_type": "stream",
     "text": [
      "A: ['hard rock', 10, 1.2]\n",
      "B: ['hard rock', 10, 1.2]\n"
     ]
    }
   ],
   "source": [
    "# Kopyalama Klonlama\n",
    "     # A listesini referans olarak kopyalama\n",
    "A = ['hard rock', 10,1.2]\n",
    "B = A\n",
    "print('A:', A)\n",
    "print('B:', B)"
   ]
  },
  {
   "cell_type": "code",
   "execution_count": 163,
   "metadata": {},
   "outputs": [
    {
     "name": "stdout",
     "output_type": "stream",
     "text": [
      "B[0]: hard rock\n",
      "B[0]: banana\n"
     ]
    }
   ],
   "source": [
    "# Kopyayı referans olarak inceleyin\n",
    "\n",
    "print('B[0]:', B[0])\n",
    "A[0] = \"banana\"\n",
    "print('B[0]:', B[0])"
   ]
  },
  {
   "cell_type": "code",
   "execution_count": 164,
   "metadata": {},
   "outputs": [
    {
     "data": {
      "text/plain": [
       "(['banana', 10, 1.2], ['banana', 10, 1.2])"
      ]
     },
     "execution_count": 164,
     "metadata": {},
     "output_type": "execute_result"
    }
   ],
   "source": [
    "A,B"
   ]
  },
  {
   "cell_type": "code",
   "execution_count": 165,
   "metadata": {},
   "outputs": [
    {
     "data": {
      "text/plain": [
       "['banana', 10, 1.2]"
      ]
     },
     "execution_count": 165,
     "metadata": {},
     "output_type": "execute_result"
    }
   ],
   "source": [
    "# A listesini klonlama (değere göre)\n",
    "\n",
    "B = A[:]\n",
    "B"
   ]
  },
  {
   "cell_type": "code",
   "execution_count": 166,
   "metadata": {},
   "outputs": [
    {
     "data": {
      "text/plain": [
       "['banana', 10, 1.2]"
      ]
     },
     "execution_count": 166,
     "metadata": {},
     "output_type": "execute_result"
    }
   ],
   "source": [
    "B"
   ]
  },
  {
   "cell_type": "code",
   "execution_count": 167,
   "metadata": {},
   "outputs": [
    {
     "data": {
      "text/plain": [
       "['banana', 10, 1.2]"
      ]
     },
     "execution_count": 167,
     "metadata": {},
     "output_type": "execute_result"
    }
   ],
   "source": [
    "A"
   ]
  },
  {
   "cell_type": "code",
   "execution_count": 168,
   "metadata": {},
   "outputs": [
    {
     "data": {
      "text/plain": [
       "('disco', 10, 1.2)"
      ]
     },
     "execution_count": 168,
     "metadata": {},
     "output_type": "execute_result"
    }
   ],
   "source": [
    "# Tuples\n",
    " #liste ile arasındaki fark: liste değiştirilir tupple değiştirilemez, tuples daha performanslı az bellek tutar. Kullanım alanları daha çok değiştirilmesi istenmeyen veriler.\n",
    "\n",
    "tuple1 = ('disco', 10,1.2 )\n",
    "tuple1"
   ]
  },
  {
   "cell_type": "code",
   "execution_count": 169,
   "metadata": {},
   "outputs": [
    {
     "data": {
      "text/plain": [
       "tuple"
      ]
     },
     "execution_count": 169,
     "metadata": {},
     "output_type": "execute_result"
    }
   ],
   "source": [
    "type(tuple1)"
   ]
  },
  {
   "cell_type": "code",
   "execution_count": 170,
   "metadata": {},
   "outputs": [
    {
     "name": "stdout",
     "output_type": "stream",
     "text": [
      "disco\n"
     ]
    }
   ],
   "source": [
    "# Indexing, listelerle aynıdır\n",
    "\n",
    "print(tuple1[0])"
   ]
  },
  {
   "cell_type": "code",
   "execution_count": 171,
   "metadata": {},
   "outputs": [
    {
     "name": "stdout",
     "output_type": "stream",
     "text": [
      "<class 'str'>\n",
      "<class 'int'>\n",
      "<class 'float'>\n"
     ]
    }
   ],
   "source": [
    "# her bir elemanına tipine erişebilir, listelerle aynıdır.\n",
    "\n",
    "print(type(tuple1[0]))\n",
    "print(type(tuple1[1]))\n",
    "print(type(tuple1[2]))"
   ]
  },
  {
   "cell_type": "code",
   "execution_count": 172,
   "metadata": {},
   "outputs": [
    {
     "data": {
      "text/plain": [
       "1.2"
      ]
     },
     "execution_count": 172,
     "metadata": {},
     "output_type": "execute_result"
    }
   ],
   "source": [
    "# Listeler gibi negatif indexleme kullanabiliriz.\n",
    "\n",
    "tuple1[-1]"
   ]
  },
  {
   "cell_type": "code",
   "execution_count": 173,
   "metadata": {},
   "outputs": [
    {
     "data": {
      "text/plain": [
       "('disco', 10, 1.2, 'hard rock', 10)"
      ]
     },
     "execution_count": 173,
     "metadata": {},
     "output_type": "execute_result"
    }
   ],
   "source": [
    "# Tuple + işareti ile birleştirilebilir veya bir araya getirilebilir.\n",
    "\n",
    "tuple2 = tuple1 + ('hard rock', 10)\n",
    "tuple2"
   ]
  },
  {
   "cell_type": "code",
   "execution_count": 174,
   "metadata": {},
   "outputs": [
    {
     "data": {
      "text/plain": [
       "('disco', 10, 1.2)"
      ]
     },
     "execution_count": 174,
     "metadata": {},
     "output_type": "execute_result"
    }
   ],
   "source": [
    "# Slicing, listelerle aynı çalışır.\n",
    "    # Dizin 0'dan dizin 2'ye kadar dilimleme\n",
    "tuple2[0:3]"
   ]
  },
  {
   "cell_type": "code",
   "execution_count": 175,
   "metadata": {},
   "outputs": [
    {
     "data": {
      "text/plain": [
       "('hard rock', 10)"
      ]
     },
     "execution_count": 175,
     "metadata": {},
     "output_type": "execute_result"
    }
   ],
   "source": [
    " # Dizin 3'ten dizin 4'e kadar dilimleme\n",
    "tuple2[3:5]"
   ]
  },
  {
   "cell_type": "code",
   "execution_count": 176,
   "metadata": {},
   "outputs": [
    {
     "data": {
      "text/plain": [
       "5"
      ]
     },
     "execution_count": 176,
     "metadata": {},
     "output_type": "execute_result"
    }
   ],
   "source": [
    "# Tuple uzunluğunu alma\n",
    "\n",
    "len(tuple2)"
   ]
  },
  {
   "cell_type": "code",
   "execution_count": 177,
   "metadata": {},
   "outputs": [],
   "source": [
    "# Sorting \n",
    "# örnek bir tuple\n",
    "Ratings = (0,9,6,5,10,8,9,6,2)"
   ]
  },
  {
   "cell_type": "code",
   "execution_count": 178,
   "metadata": {},
   "outputs": [
    {
     "data": {
      "text/plain": [
       "[0, 2, 5, 6, 6, 8, 9, 9, 10]"
      ]
     },
     "execution_count": 178,
     "metadata": {},
     "output_type": "execute_result"
    }
   ],
   "source": [
    "# Tuple sırala\n",
    "RatingsSorted = sorted(Ratings)\n",
    "RatingsSorted"
   ]
  },
  {
   "cell_type": "code",
   "execution_count": 179,
   "metadata": {},
   "outputs": [
    {
     "data": {
      "text/plain": [
       "(1, 2, ('pop', 'rock'), (3, 4), ('disco', (1, 2)))"
      ]
     },
     "execution_count": 179,
     "metadata": {},
     "output_type": "execute_result"
    }
   ],
   "source": [
    "# Nested Tuple, tuple içlerisinde tuple\n",
    "\n",
    "NestedT = (1,2, ('pop', 'rock'), (3,4), ('disco', (1,2)))\n",
    "NestedT"
   ]
  },
  {
   "cell_type": "code",
   "execution_count": 182,
   "metadata": {},
   "outputs": [
    {
     "name": "stdout",
     "output_type": "stream",
     "text": [
      "Eleman 0 of Tuple 1\n",
      "Eleman 1 of Tuple 2\n",
      "Eleman 2 of Tuple ('pop', 'rock')\n",
      "Eleman 3 of Tuple (3, 4)\n",
      "Eleman 3 of Tuple ('disco', (1, 2))\n"
     ]
    }
   ],
   "source": [
    "# her dizideki öğeleri yazdırma\n",
    "\n",
    "print(\"Eleman 0 of Tuple\", NestedT[0])\n",
    "print(\"Eleman 1 of Tuple\", NestedT[1])\n",
    "print(\"Eleman 2 of Tuple\", NestedT[2])\n",
    "print(\"Eleman 3 of Tuple\", NestedT[3])\n",
    "print(\"Eleman 3 of Tuple\", NestedT[4])\n",
    "\n"
   ]
  },
  {
   "cell_type": "code",
   "execution_count": 188,
   "metadata": {},
   "outputs": [
    {
     "name": "stdout",
     "output_type": "stream",
     "text": [
      "Eleman 2 of Tuple:  pop\n",
      "Eleman 2 of Tuple:  rock\n",
      "Eleman 3 of Tuple:  3\n",
      "Eleman 3 of Tuple:  4\n"
     ]
    }
   ],
   "source": [
    "# Her bir indeksin elamanı, iç içe indeksler dahil olmak üzere yazdırma\n",
    "\n",
    "print(\"Eleman 2 of Tuple: \", NestedT[2][0])\n",
    "print(\"Eleman 2 of Tuple: \", NestedT[2][1])\n",
    "print(\"Eleman 3 of Tuple: \", NestedT[3][0])\n",
    "print(\"Eleman 3 of Tuple: \", NestedT[3][1])"
   ]
  },
  {
   "cell_type": "code",
   "execution_count": 1,
   "metadata": {},
   "outputs": [],
   "source": [
    "# Dict\n",
    "\n",
    "dict = {\"key\": 1, \"key2\":\"2\", \"key3\":[3,3,3], \"key4\":(4,4,4), (\"key5\"): 5, (0,1): 6}"
   ]
  },
  {
   "cell_type": "code",
   "execution_count": 6,
   "metadata": {},
   "outputs": [
    {
     "data": {
      "text/plain": [
       "6"
      ]
     },
     "execution_count": 6,
     "metadata": {},
     "output_type": "execute_result"
    }
   ],
   "source": [
    "dict[(0,1)]"
   ]
  },
  {
   "cell_type": "code",
   "execution_count": 9,
   "metadata": {},
   "outputs": [],
   "source": [
    "relesa_year_dict = {\"Thriller\": \"1982\", \"Test\": 3}"
   ]
  },
  {
   "cell_type": "code",
   "execution_count": 8,
   "metadata": {},
   "outputs": [
    {
     "data": {
      "text/plain": [
       "{'Thriller': '1982'}"
      ]
     },
     "execution_count": 8,
     "metadata": {},
     "output_type": "execute_result"
    }
   ],
   "source": [
    "relesa_year_dict"
   ]
  },
  {
   "cell_type": "code",
   "execution_count": 11,
   "metadata": {},
   "outputs": [
    {
     "data": {
      "text/plain": [
       "dict_keys(['Thriller', 'Test'])"
      ]
     },
     "execution_count": 11,
     "metadata": {},
     "output_type": "execute_result"
    }
   ],
   "source": [
    "relesa_year_dict.keys()"
   ]
  },
  {
   "cell_type": "code",
   "execution_count": 13,
   "metadata": {},
   "outputs": [
    {
     "data": {
      "text/plain": [
       "dict_values(['1982', 3])"
      ]
     },
     "execution_count": 13,
     "metadata": {},
     "output_type": "execute_result"
    }
   ],
   "source": [
    "relesa_year_dict.values()"
   ]
  },
  {
   "cell_type": "code",
   "execution_count": 14,
   "metadata": {},
   "outputs": [
    {
     "data": {
      "text/plain": [
       "{'Thriller': '1982', 'Test': 3, 'Graduation': '2007'}"
      ]
     },
     "execution_count": 14,
     "metadata": {},
     "output_type": "execute_result"
    }
   ],
   "source": [
    "# Değeri anahtarla birlikte sözlüğe ekle\n",
    "relesa_year_dict[\"Graduation\"] = '2007'\n",
    "relesa_year_dict"
   ]
  },
  {
   "cell_type": "code",
   "execution_count": 15,
   "metadata": {},
   "outputs": [],
   "source": [
    "del(relesa_year_dict[\"Graduation\"])"
   ]
  },
  {
   "cell_type": "code",
   "execution_count": 16,
   "metadata": {},
   "outputs": [
    {
     "data": {
      "text/plain": [
       "{'Thriller': '1982', 'Test': 3}"
      ]
     },
     "execution_count": 16,
     "metadata": {},
     "output_type": "execute_result"
    }
   ],
   "source": [
    "relesa_year_dict"
   ]
  },
  {
   "cell_type": "code",
   "execution_count": 18,
   "metadata": {},
   "outputs": [
    {
     "name": "stdout",
     "output_type": "stream",
     "text": [
      "The test is the dictionary\n"
     ]
    }
   ],
   "source": [
    "if 'Test' in relesa_year_dict:\n",
    "    print(\"The test is the dictionary\")\n",
    "else: \n",
    "    print(\"The bodyguard is not in the dictionary\")"
   ]
  },
  {
   "cell_type": "code",
   "execution_count": 20,
   "metadata": {},
   "outputs": [
    {
     "data": {
      "text/plain": [
       "{'R&B', 'disco', 'hard rock', 'pop', 'rock', 'soul'}"
      ]
     },
     "execution_count": 20,
     "metadata": {},
     "output_type": "execute_result"
    }
   ],
   "source": [
    "# SETS\n",
    "''' \n",
    "    küme, nesnelerin benzersiz bir koleksiyonudur.\n",
    "    bir küme, süslü parantezlerin bir çifti{} ile belirtilebilir.\n",
    "    python otomatik olarak yenilenen öğeleri kaldıracakltır. \n",
    "'''\n",
    "\n",
    "set1 = {\"pop\", \"rock\", \"soul\", \"hard rock\", \"R&B\", \"rock\", \"disco\"}\n",
    "set1"
   ]
  },
  {
   "cell_type": "code",
   "execution_count": 23,
   "metadata": {},
   "outputs": [
    {
     "data": {
      "text/plain": [
       "{'00:42:19',\n",
       " 10.0,\n",
       " 1982,\n",
       " '30-Nov-82',\n",
       " 46.0,\n",
       " 65,\n",
       " 'Micheal Jakson',\n",
       " None,\n",
       " 'POP, ROCK, R&B',\n",
       " 'Thriller'}"
      ]
     },
     "execution_count": 23,
     "metadata": {},
     "output_type": "execute_result"
    }
   ],
   "source": [
    "# aşağıdaki gibi bir listeden de bir set oluşturulabilir.\n",
    "\n",
    "album_list = [\"Micheal Jakson\", \"Thriller\", 1982, \"00:42:19\", \"POP, ROCK, R&B\", 46.0,65, \"30-Nov-82\", None, 10.0]\n",
    "album_set = set(album_list)\n",
    "album_set"
   ]
  },
  {
   "cell_type": "code",
   "execution_count": 24,
   "metadata": {},
   "outputs": [
    {
     "data": {
      "text/plain": [
       "{'R&B',\n",
       " 'disco',\n",
       " 'fold rock',\n",
       " 'hard rock',\n",
       " 'pop',\n",
       " 'progressive rock',\n",
       " 'rock',\n",
       " 'soft rock',\n",
       " 'soul'}"
      ]
     },
     "execution_count": 24,
     "metadata": {},
     "output_type": "execute_result"
    }
   ],
   "source": [
    "# Listeyi kümeye dönüştür\n",
    "\n",
    "music_genres = set([\"pop\", \"pop\", \"rock\", \"fold rock\",\n",
    "                    \"hard rock\", \"soul\", \"progressive rock\",\n",
    "                    \"soft rock\", \"R&B\", \"disco\"\n",
    "                     ])\n",
    "music_genres"
   ]
  },
  {
   "cell_type": "code",
   "execution_count": 25,
   "metadata": {},
   "outputs": [
    {
     "data": {
      "text/plain": [
       "{'AC/DC', 'Back in Black', 'Thriller'}"
      ]
     },
     "execution_count": 25,
     "metadata": {},
     "output_type": "execute_result"
    }
   ],
   "source": [
    "# Set Operations \n",
    "''' \n",
    " küme işlemlerini gözden geçirelim, çünkü bunlar küme üzerinde değişiklik yapmak için kullanılaiblir. A kümesini düşünün:\n",
    "'''\n",
    "\n",
    "A = set([\"Thriller\", \"Back in Black\", \"AC/DC\"])\n",
    "A"
   ]
  },
  {
   "cell_type": "code",
   "execution_count": 28,
   "metadata": {},
   "outputs": [
    {
     "data": {
      "text/plain": [
       "{'AC/DC', 'Back in Black', 'NSYNC', 'Thriller'}"
      ]
     },
     "execution_count": 28,
     "metadata": {},
     "output_type": "execute_result"
    }
   ],
   "source": [
    "A.add(\"NSYNC\")\n",
    "A\n",
    "\n",
    "# aynı ögeyi iki kez eklersek, bir kümede yineleme olamayacağı için hiçbir şey olmayacaktır."
   ]
  },
  {
   "cell_type": "code",
   "execution_count": 29,
   "metadata": {},
   "outputs": [
    {
     "data": {
      "text/plain": [
       "{'AC/DC', 'Back in Black', 'Thriller'}"
      ]
     },
     "execution_count": 29,
     "metadata": {},
     "output_type": "execute_result"
    }
   ],
   "source": [
    "A.remove(\"NSYNC\")\n",
    "A"
   ]
  },
  {
   "cell_type": "code",
   "execution_count": 30,
   "metadata": {},
   "outputs": [
    {
     "data": {
      "text/plain": [
       "True"
      ]
     },
     "execution_count": 30,
     "metadata": {},
     "output_type": "execute_result"
    }
   ],
   "source": [
    "# bir elemanın kümede olup olmadığını in komutu ile doğrulayabiliriz.\n",
    "\n",
    "\"AC/DC\" in A"
   ]
  },
  {
   "cell_type": "code",
   "execution_count": 31,
   "metadata": {},
   "outputs": [
    {
     "data": {
      "text/plain": [
       "({'AC/DC', 'Back in Black', 'Thriller'},\n",
       " {'AC/DC', 'Back in Black', 'The Dark Side of the Moon'})"
      ]
     },
     "execution_count": 31,
     "metadata": {},
     "output_type": "execute_result"
    }
   ],
   "source": [
    "# Sets Logic Operations \n",
    "''' \n",
    "    Kümelerle, kümeler arasındaki farkın yanı sıra simetrik fark, kesişim ve birleşimi de kontrol edebiliriz.\n",
    "'''\n",
    "\n",
    "album_set1 = set([\"Thriller\", \"AC/DC\", \"Back in Black\"])\n",
    "album_set2 = set([\"AC/DC\", \"Back in Black\", \"The Dark Side of the Moon\"])\n",
    "\n",
    "album_set1, album_set2"
   ]
  },
  {
   "cell_type": "code",
   "execution_count": 32,
   "metadata": {},
   "outputs": [
    {
     "data": {
      "text/plain": [
       "{'AC/DC', 'Back in Black'}"
      ]
     },
     "execution_count": 32,
     "metadata": {},
     "output_type": "execute_result"
    }
   ],
   "source": [
    "# iki kümenin keşisimini & kullanarak aşağıdaki gibi bulabiliriz.\n",
    "\n",
    "intersection = album_set1 & album_set2\n",
    "intersection"
   ]
  },
  {
   "cell_type": "code",
   "execution_count": 33,
   "metadata": {},
   "outputs": [
    {
     "data": {
      "text/plain": [
       "{'Thriller'}"
      ]
     },
     "execution_count": 33,
     "metadata": {},
     "output_type": "execute_result"
    }
   ],
   "source": [
    "# album_set1 içinde yalnızca bulunan tüm elemanların difference metodu kullanarak bulunabilir\n",
    "    # set1' deki farkı bulun ancak set2'deki farkı bulmayın\n",
    "album_set1.difference(album_set2)"
   ]
  },
  {
   "cell_type": "code",
   "execution_count": 34,
   "metadata": {},
   "outputs": [
    {
     "data": {
      "text/plain": [
       "{'AC/DC', 'Back in Black'}"
      ]
     },
     "execution_count": 34,
     "metadata": {},
     "output_type": "execute_result"
    }
   ],
   "source": [
    "#album_list1 ve album_list2'nin keşisimini bulmak için kesişim yöntemi\n",
    "album_set1.intersection(album_set2)"
   ]
  },
  {
   "cell_type": "code",
   "execution_count": 35,
   "metadata": {},
   "outputs": [
    {
     "data": {
      "text/plain": [
       "{'AC/DC', 'Back in Black', 'The Dark Side of the Moon', 'Thriller'}"
      ]
     },
     "execution_count": 35,
     "metadata": {},
     "output_type": "execute_result"
    }
   ],
   "source": [
    "album_set1.union(album_set2)"
   ]
  },
  {
   "cell_type": "code",
   "execution_count": 40,
   "metadata": {},
   "outputs": [
    {
     "data": {
      "text/plain": [
       "False"
      ]
     },
     "execution_count": 40,
     "metadata": {},
     "output_type": "execute_result"
    }
   ],
   "source": [
    "# bir kümenin başka bir kümenin üst kümesi veya alt kümesi olup olmadığını kontrol etme\n",
    "\n",
    "# üst küme olup olmadığını kontrol\n",
    "set(album_set1).issuperset(album_set2)\n"
   ]
  },
  {
   "cell_type": "code",
   "execution_count": 39,
   "metadata": {},
   "outputs": [
    {
     "data": {
      "text/plain": [
       "False"
      ]
     },
     "execution_count": 39,
     "metadata": {},
     "output_type": "execute_result"
    }
   ],
   "source": [
    "# alt küme olup olmadığını kontrol\n",
    "set(album_set2).issubset(album_set1)"
   ]
  },
  {
   "cell_type": "code",
   "execution_count": 41,
   "metadata": {},
   "outputs": [
    {
     "data": {
      "text/plain": [
       "{'AC/DC', 'Back in Black', 'Thriller'}"
      ]
     },
     "execution_count": 41,
     "metadata": {},
     "output_type": "execute_result"
    }
   ],
   "source": [
    "#örnek \n",
    "album_set1"
   ]
  },
  {
   "cell_type": "code",
   "execution_count": 43,
   "metadata": {},
   "outputs": [
    {
     "data": {
      "text/plain": [
       "True"
      ]
     },
     "execution_count": 43,
     "metadata": {},
     "output_type": "execute_result"
    }
   ],
   "source": [
    "# alt küme olup olmadığını kontrol et\n",
    "set({\"Back in Black\", \"AC/DC\"}).issubset(album_set1)"
   ]
  },
  {
   "cell_type": "code",
   "execution_count": 44,
   "metadata": {},
   "outputs": [
    {
     "data": {
      "text/plain": [
       "True"
      ]
     },
     "execution_count": 44,
     "metadata": {},
     "output_type": "execute_result"
    }
   ],
   "source": [
    "# üst küme olup olmadığını kontrol et\n",
    "album_set1.issuperset({\"Back in Black\", \"AC/DC\"})"
   ]
  },
  {
   "cell_type": "code",
   "execution_count": null,
   "metadata": {},
   "outputs": [],
   "source": []
  }
 ],
 "metadata": {
  "kernelspec": {
   "display_name": "Python 3",
   "language": "python",
   "name": "python3"
  },
  "language_info": {
   "codemirror_mode": {
    "name": "ipython",
    "version": 3
   },
   "file_extension": ".py",
   "mimetype": "text/x-python",
   "name": "python",
   "nbconvert_exporter": "python",
   "pygments_lexer": "ipython3",
   "version": "3.12.3"
  }
 },
 "nbformat": 4,
 "nbformat_minor": 2
}
