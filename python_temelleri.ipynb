{
 "cells": [
  {
   "cell_type": "markdown",
   "metadata": {},
   "source": [
    "Python'da Koşullar \n",
    "\n",
    "Hedefler\n",
    "Bu labaratuvarı tamamladıktan sonra şunları yapabileceksiniz:\n",
    "    Python'da operatörler ve dallanma dahil olmak üzere koşul ifaleri ile çalışabileceksiniz.\n",
    "\n",
    "Koşul İfadeleri\n",
    "\n",
    "Karşılaştırma Operatörleri\n",
    "Karşılaştırma işlemleri, bazı değerleri veya operandları karşılaştırır ve bir koşula göre Boolean üretir. İki değeri karşılaştırırken şu operatörleri kullanabilirsiniz.\n",
    "     (eşittir: ==)\n",
    "     (eşit değildir: !=)\n",
    "     (büyüktür: >)\n",
    "     (küçüktür: <)\n",
    "     (büyük eşittir: >=)\n",
    "     (küçük eşittir: <=)\n"
   ]
  },
  {
   "cell_type": "code",
   "execution_count": 14,
   "metadata": {},
   "outputs": [
    {
     "data": {
      "text/plain": [
       "False"
      ]
     },
     "execution_count": 14,
     "metadata": {},
     "output_type": "execute_result"
    }
   ],
   "source": [
    "# 'a'ya 5 değerini atayalım. iki değerin eşit olup olmadığını belirlemek için iki eşittir == işareti ile gösterilen eşitlik operatörünü kullanalım. aşağıdaki durum a değişenini 6 ile karşılaştırır.\n",
    "a = 5\n",
    "a == 6"
   ]
  },
  {
   "cell_type": "code",
   "execution_count": 15,
   "metadata": {},
   "outputs": [
    {
     "data": {
      "text/plain": [
       "True"
      ]
     },
     "execution_count": 15,
     "metadata": {},
     "output_type": "execute_result"
    }
   ],
   "source": [
    "# büyüktür işareti\n",
    "\n",
    "i = 6\n",
    "i > 5"
   ]
  },
  {
   "cell_type": "code",
   "execution_count": 16,
   "metadata": {},
   "outputs": [
    {
     "data": {
      "text/plain": [
       "True"
      ]
     },
     "execution_count": 16,
     "metadata": {},
     "output_type": "execute_result"
    }
   ],
   "source": [
    "# eşitsizlik ifadesi\n",
    "\n",
    "i = 2\n",
    "i !=6"
   ]
  },
  {
   "cell_type": "code",
   "execution_count": 17,
   "metadata": {},
   "outputs": [
    {
     "data": {
      "text/plain": [
       "False"
      ]
     },
     "execution_count": 17,
     "metadata": {},
     "output_type": "execute_result"
    }
   ],
   "source": [
    "# dizeleri karşılaştırmak için eşitlik işareti\n",
    "\"Cem Yılmaz\" == \"Can Yılmaz\""
   ]
  },
  {
   "cell_type": "code",
   "execution_count": 18,
   "metadata": {},
   "outputs": [
    {
     "data": {
      "text/plain": [
       "True"
      ]
     },
     "execution_count": 18,
     "metadata": {},
     "output_type": "execute_result"
    }
   ],
   "source": [
    "# dizeleri karşılaştırmak için eşitsizlik işareti\n",
    "\"Cem Yılmaz\" != \"Can Yılmaz\""
   ]
  },
  {
   "cell_type": "code",
   "execution_count": 19,
   "metadata": {},
   "outputs": [
    {
     "data": {
      "text/plain": [
       "True"
      ]
     },
     "execution_count": 19,
     "metadata": {},
     "output_type": "execute_result"
    }
   ],
   "source": [
    "# karakterleri karşılaştır\n",
    "'B' > 'A'"
   ]
  },
  {
   "cell_type": "code",
   "execution_count": 20,
   "metadata": {},
   "outputs": [
    {
     "data": {
      "text/plain": [
       "True"
      ]
     },
     "execution_count": 20,
     "metadata": {},
     "output_type": "execute_result"
    }
   ],
   "source": [
    "# birden fazla harf olduğunda, sıralamada ilk harf önceliklidir\n",
    "'BA' > 'AB'"
   ]
  },
  {
   "cell_type": "code",
   "execution_count": 21,
   "metadata": {},
   "outputs": [
    {
     "name": "stdout",
     "output_type": "stream",
     "text": [
      "you can enter\n",
      "move on\n"
     ]
    }
   ],
   "source": [
    "# if koşulu örneği \n",
    "age = 19\n",
    "\n",
    "# doğru veya yanlış olabilen ifade\n",
    "if age > 18:\n",
    "    print(\"you can enter\")\n",
    "\n",
    "# if deyiminden sonraki deyimler, koşulun doğru veya yanlış olmasına bakılmaksızın çalışacaktır.\n",
    "print(\"move on\")"
   ]
  },
  {
   "cell_type": "code",
   "execution_count": 22,
   "metadata": {},
   "outputs": [
    {
     "name": "stdout",
     "output_type": "stream",
     "text": [
      "you can enter\n",
      "move on\n"
     ]
    }
   ],
   "source": [
    "# elif durumu örneği\n",
    "age = 19\n",
    "\n",
    "if age>18:\n",
    "    print(\"you can enter\")\n",
    "elif age == 18:\n",
    "    print(\"go see Pink Floyd\")\n",
    "else:\n",
    "    print(\"go see meat loaf\")\n",
    "\n",
    "print(\"move on\")"
   ]
  },
  {
   "cell_type": "code",
   "execution_count": 23,
   "metadata": {},
   "outputs": [
    {
     "name": "stdout",
     "output_type": "stream",
     "text": [
      "do something...\n"
     ]
    }
   ],
   "source": [
    "# koşul ifadesi örneği\n",
    "\n",
    "album_year = 1983\n",
    "album_year = 1970\n",
    "\n",
    "if album_year > 1980:\n",
    "    print(\"Album year is greater than 1980\")\n",
    "\n",
    "print(\"do something...\")"
   ]
  },
  {
   "cell_type": "markdown",
   "metadata": {},
   "source": [
    "Logical Operators: (and, or, not)\n"
   ]
  },
  {
   "cell_type": "code",
   "execution_count": 24,
   "metadata": {},
   "outputs": [
    {
     "name": "stdout",
     "output_type": "stream",
     "text": [
      "Album year was in between 1980 and 1989\n",
      "\n",
      "Do Stuff..\n"
     ]
    }
   ],
   "source": [
    "# and ifadesi, iki koşuluda sağlıyorsa\n",
    "album_year = 1981\n",
    "\n",
    "if(album_year > 1979) and (album_year < 1990):\n",
    "    print(\"Album year was in between 1980 and 1989\")\n",
    "\n",
    "print(\"\")\n",
    "print(\"Do Stuff..\")"
   ]
  },
  {
   "cell_type": "code",
   "execution_count": 25,
   "metadata": {},
   "outputs": [
    {
     "name": "stdout",
     "output_type": "stream",
     "text": [
      "Album was not made in the 1980's\n"
     ]
    }
   ],
   "source": [
    "# or ifadesi, koşullardan herhangi birini sağlıyorsa\n",
    "album_year = 1990\n",
    "\n",
    "if (album_year< 1980) or (album_year > 1989):\n",
    "    print(\"Album was not made in the 1980's\")\n",
    "else:\n",
    "    print(\"The album was made in the 1980's\")\n"
   ]
  },
  {
   "cell_type": "code",
   "execution_count": 26,
   "metadata": {},
   "outputs": [
    {
     "name": "stdout",
     "output_type": "stream",
     "text": [
      "Album year is not 1988\n"
     ]
    }
   ],
   "source": [
    "# not ifadesi, yanlış olup olmadığını kontrol eder\n",
    "\n",
    "album_year = 1983\n",
    "\n",
    "if not (album_year == 1988):\n",
    "    print(\"Album year is not 1988\")"
   ]
  },
  {
   "cell_type": "markdown",
   "metadata": {},
   "source": [
    "Python'da Döngüler\n",
    "\n",
    "Hedefler\n",
    "Bu labaratuvarı tamamladıktan sonra şunları yapabileceksiniz:\n",
    "( for-loop ve while-loop ) olmak üzere Python'daki döngü deyimleriyle çalışabileceksiniz."
   ]
  },
  {
   "cell_type": "markdown",
   "metadata": {},
   "source": [
    " Aralık: Range nesnesi, sıralı bir nesne olarak düşünmek faydalalı olabilir. 0'dan 2'ye kadar sıralı elemanlar içeren bir nesne üretmek\n",
    "  "
   ]
  },
  {
   "cell_type": "code",
   "execution_count": 27,
   "metadata": {},
   "outputs": [
    {
     "data": {
      "text/plain": [
       "range(0, 3)"
      ]
     },
     "execution_count": 27,
     "metadata": {},
     "output_type": "execute_result"
    }
   ],
   "source": [
    "#aralığı kullan\n",
    "range(3)"
   ]
  },
  {
   "cell_type": "code",
   "execution_count": 28,
   "metadata": {},
   "outputs": [
    {
     "name": "stdout",
     "output_type": "stream",
     "text": [
      "4\n",
      "1982\n",
      "1239\n",
      "2393\n",
      "2932\n"
     ]
    }
   ],
   "source": [
    "# for döngüsü: listedeki her elemanı yazdırmak istiyorsanız \n",
    "\n",
    "dates=[1982,1239,2393,2932]\n",
    "N = len(dates)\n",
    "print(N)\n",
    "\n",
    "for i in range(N):\n",
    "    print(dates[i])"
   ]
  },
  {
   "cell_type": "code",
   "execution_count": 29,
   "metadata": {},
   "outputs": [
    {
     "name": "stdout",
     "output_type": "stream",
     "text": [
      "0\n",
      "1\n",
      "2\n",
      "3\n",
      "4\n",
      "5\n",
      "6\n",
      "7\n"
     ]
    }
   ],
   "source": [
    "# for d(öngüsü \n",
    "\n",
    "for i in range(0, 8):\n",
    "    print(i)"
   ]
  },
  {
   "cell_type": "code",
   "execution_count": 30,
   "metadata": {},
   "outputs": [
    {
     "name": "stdout",
     "output_type": "stream",
     "text": [
      "0\n",
      "2\n",
      "4\n",
      "6\n"
     ]
    }
   ],
   "source": [
    "for i in range(0, 8, 2):\n",
    "    print(i)"
   ]
  },
  {
   "cell_type": "code",
   "execution_count": 31,
   "metadata": {},
   "outputs": [
    {
     "name": "stdout",
     "output_type": "stream",
     "text": [
      "1982\n",
      "1239\n",
      "2393\n",
      "2932\n"
     ]
    }
   ],
   "source": [
    "for year in dates:\n",
    "    print(year)"
   ]
  },
  {
   "cell_type": "code",
   "execution_count": 32,
   "metadata": {},
   "outputs": [
    {
     "name": "stdout",
     "output_type": "stream",
     "text": [
      "Before square  0 is red\n",
      "After square 0  is white\n",
      "Before square  1 is yellow\n",
      "After square 1  is yellow\n",
      "Before square  2 is greem\n",
      "After square 2  is greem\n",
      "Before square  3 is purple\n",
      "After square 3  is purple\n",
      "Before square  4 is blue\n",
      "After square 4  is blue\n"
     ]
    }
   ],
   "source": [
    "# bir listedeki öğeleri değiştirmek için for \n",
    "\n",
    "squares = ['red', 'yellow','greem', 'purple','blue']\n",
    "\n",
    "for i in range(0,5):\n",
    "    print(\"Before square \", i, 'is', squares[i])\n",
    "    squares[0] = 'white'\n",
    "    print(\"After square\", i, ' is', squares[i])"
   ]
  },
  {
   "cell_type": "code",
   "execution_count": 33,
   "metadata": {},
   "outputs": [
    {
     "name": "stdout",
     "output_type": "stream",
     "text": [
      "0 red\n",
      "1 yellow\n",
      "2 greem\n",
      "3 purple\n",
      "4 blue\n"
     ]
    }
   ],
   "source": [
    "# Liste boyunca döngü ve hem indeks hem de eleman değeri üzerine yineleme\n",
    "\n",
    "squares = ['red', 'yellow','greem', 'purple','blue']\n",
    "\n",
    "for i, square in enumerate(squares):\n",
    "    print(i, square)"
   ]
  },
  {
   "cell_type": "markdown",
   "metadata": {},
   "source": [
    "Python'da Fonksiyonlar"
   ]
  },
  {
   "cell_type": "code",
   "execution_count": 34,
   "metadata": {},
   "outputs": [],
   "source": [
    "def add(a):\n",
    "    \"\"\"\n",
    "        add 1 to a\n",
    "    \"\"\"\n",
    "   \n",
    "    b = a + 1\n",
    "\n",
    "    print(a,\"if you add one\", b)\n",
    "\n",
    "    return b"
   ]
  },
  {
   "cell_type": "code",
   "execution_count": 35,
   "metadata": {},
   "outputs": [
    {
     "name": "stdout",
     "output_type": "stream",
     "text": [
      "4 if you add one 5\n"
     ]
    },
    {
     "data": {
      "text/plain": [
       "5"
      ]
     },
     "execution_count": 35,
     "metadata": {},
     "output_type": "execute_result"
    }
   ],
   "source": [
    "add(4)"
   ]
  },
  {
   "cell_type": "code",
   "execution_count": 36,
   "metadata": {},
   "outputs": [
    {
     "name": "stdout",
     "output_type": "stream",
     "text": [
      "Help on function add in module __main__:\n",
      "\n",
      "add(a)\n",
      "    add 1 to a\n",
      "\n"
     ]
    }
   ],
   "source": [
    "help(add)"
   ]
  },
  {
   "cell_type": "code",
   "execution_count": 37,
   "metadata": {},
   "outputs": [
    {
     "name": "stdout",
     "output_type": "stream",
     "text": [
      "24\n"
     ]
    }
   ],
   "source": [
    "def Mult(a, b):\n",
    "    c = a *b\n",
    "    return(c)\n",
    "\n",
    "res = Mult(12,2)\n",
    "print(res)"
   ]
  },
  {
   "cell_type": "code",
   "execution_count": 38,
   "metadata": {},
   "outputs": [
    {
     "data": {
      "text/plain": [
       "6"
      ]
     },
     "execution_count": 38,
     "metadata": {},
     "output_type": "execute_result"
    }
   ],
   "source": [
    "Mult(2,3)"
   ]
  },
  {
   "cell_type": "code",
   "execution_count": 39,
   "metadata": {},
   "outputs": [],
   "source": [
    "def square(a):\n",
    "    b = 1\n",
    "    c = a * a + b\n",
    "\n",
    "    print(a, \"if you square + 1\", c)\n",
    "    return(c)"
   ]
  },
  {
   "cell_type": "code",
   "execution_count": 40,
   "metadata": {},
   "outputs": [
    {
     "name": "stdout",
     "output_type": "stream",
     "text": [
      "3 if you square + 1 10\n"
     ]
    },
    {
     "data": {
      "text/plain": [
       "10"
      ]
     },
     "execution_count": 40,
     "metadata": {},
     "output_type": "execute_result"
    }
   ],
   "source": [
    "square(3)"
   ]
  },
  {
   "cell_type": "code",
   "execution_count": 41,
   "metadata": {},
   "outputs": [
    {
     "name": "stdout",
     "output_type": "stream",
     "text": [
      "3 if you square + 1 10\n"
     ]
    },
    {
     "data": {
      "text/plain": [
       "10"
      ]
     },
     "execution_count": 41,
     "metadata": {},
     "output_type": "execute_result"
    }
   ],
   "source": [
    "# globla değişken başlatır\n",
    "\n",
    "x = 3 \n",
    "y = square(x)\n",
    "y"
   ]
  },
  {
   "cell_type": "code",
   "execution_count": 42,
   "metadata": {},
   "outputs": [],
   "source": [
    "def  Equation(a,b):\n",
    "    c = a + b  + 2 * a * b - 1\n",
    "    if(c<0):\n",
    "        c = 0\n",
    "    else:\n",
    "        c = 5\n",
    "    return(c)"
   ]
  },
  {
   "cell_type": "code",
   "execution_count": 43,
   "metadata": {},
   "outputs": [
    {
     "data": {
      "text/plain": [
       "0"
      ]
     },
     "execution_count": 43,
     "metadata": {},
     "output_type": "execute_result"
    }
   ],
   "source": [
    "Equation(-1,1)"
   ]
  },
  {
   "cell_type": "code",
   "execution_count": 44,
   "metadata": {},
   "outputs": [],
   "source": [
    "def type_of_album(artist, album, year_relased):\n",
    "    print(artist, album, year_relased)\n",
    "\n",
    "    if year_relased > 1980:\n",
    "        return \"Modern\"\n",
    "    else:\n",
    "        return \"Oldie\"\n",
    "    \n"
   ]
  },
  {
   "cell_type": "code",
   "execution_count": 45,
   "metadata": {},
   "outputs": [
    {
     "name": "stdout",
     "output_type": "stream",
     "text": [
      "Michael Jakson Thriller 1980\n"
     ]
    },
    {
     "data": {
      "text/plain": [
       "'Oldie'"
      ]
     },
     "execution_count": 45,
     "metadata": {},
     "output_type": "execute_result"
    }
   ],
   "source": [
    "x = type_of_album(\"Michael Jakson\", \"Thriller\", 1980)\n",
    "x"
   ]
  },
  {
   "cell_type": "code",
   "execution_count": 46,
   "metadata": {},
   "outputs": [
    {
     "name": "stdout",
     "output_type": "stream",
     "text": [
      "Michael Jakson Thriller 1980\n"
     ]
    },
    {
     "data": {
      "text/plain": [
       "'Oldie'"
      ]
     },
     "execution_count": 46,
     "metadata": {},
     "output_type": "execute_result"
    }
   ],
   "source": [
    "x = type_of_album(artist=\"Michael Jakson\", album=\"Thriller\", year_relased=1980)\n",
    "x"
   ]
  },
  {
   "cell_type": "code",
   "execution_count": 47,
   "metadata": {},
   "outputs": [],
   "source": [
    "def PrintList(the_list):\n",
    "    x = []\n",
    "    for element in the_list:\n",
    "        print(element)\n",
    "        x.append(element)\n",
    "    return x"
   ]
  },
  {
   "cell_type": "code",
   "execution_count": 48,
   "metadata": {},
   "outputs": [
    {
     "name": "stdout",
     "output_type": "stream",
     "text": [
      "1\n",
      "1\n",
      "the man\n",
      "abc\n"
     ]
    },
    {
     "data": {
      "text/plain": [
       "[1, '1', 'the man', 'abc']"
      ]
     },
     "execution_count": 48,
     "metadata": {},
     "output_type": "execute_result"
    }
   ],
   "source": [
    "PrintList([1,'1','the man', 'abc'])"
   ]
  },
  {
   "cell_type": "code",
   "execution_count": 49,
   "metadata": {},
   "outputs": [
    {
     "data": {
      "text/plain": [
       "'String matched'"
      ]
     },
     "execution_count": 49,
     "metadata": {},
     "output_type": "execute_result"
    }
   ],
   "source": [
    "string = \"Merhaba\"\n",
    "\n",
    "def check_string(text):\n",
    "    if text in string:\n",
    "        return 'String matched'\n",
    "    else:\n",
    "        return 'String not matched'\n",
    "    \n",
    "check_string('Merhaba')"
   ]
  },
  {
   "cell_type": "code",
   "execution_count": 50,
   "metadata": {},
   "outputs": [
    {
     "name": "stdout",
     "output_type": "stream",
     "text": [
      "1\n"
     ]
    }
   ],
   "source": [
    "# iki dizeyi karşılaştırmak içinn comapreString() adlı kullanıcı tanımlı bir fonksiyon kullanılır. Fonksiyon her iki dizeyi de argüman olarak alır == operatörünü kullanarak her iki dizenin eşit olması durumunda 1 döndürür\n",
    "\n",
    "def compareStrings(x, y):\n",
    "    if x==y:\n",
    "        return 1\n",
    "    else: \n",
    "        return 0\n",
    "\n",
    "string = \"1\"\n",
    "string2 = \"1\"\n",
    "\n",
    "check = compareStrings(string, string2)\n",
    "print(check)"
   ]
  },
  {
   "cell_type": "code",
   "execution_count": 51,
   "metadata": {},
   "outputs": [],
   "source": [
    "# sözlük kullanarak bir dizede geçen kelimelerin sıklığını saymak\n",
    "\n",
    "text = \"Phasellus hendrerit elementum nisi a vulputate. Maecenas blandit rutrum sapien, in consequat tortor congue eu. Ut eu aliquet enim, ac maximus orci. Nulla sapien nisl, tempor eu quam id, rutrum commodo elit. Praesent vestibulum sem sit amet metus mollis aliquam. Suspendisse id tellus ac urna commodo vehicula et et erat. Duis rutrum eget rutrum et facilisis. Vivamus faucibus semper justo, quis rutrum turpis cursus id. Suspendisse potenti. Curabitur maximus mollis scelerisque.\"\n",
    "\n",
    "word = []\n",
    "\n",
    "words = text.split()\n"
   ]
  },
  {
   "cell_type": "code",
   "execution_count": 52,
   "metadata": {},
   "outputs": [
    {
     "data": {
      "text/plain": [
       "['Phasellus',\n",
       " 'hendrerit',\n",
       " 'elementum',\n",
       " 'nisi',\n",
       " 'a',\n",
       " 'vulputate.',\n",
       " 'Maecenas',\n",
       " 'blandit',\n",
       " 'rutrum',\n",
       " 'sapien,',\n",
       " 'in',\n",
       " 'consequat',\n",
       " 'tortor',\n",
       " 'congue',\n",
       " 'eu.',\n",
       " 'Ut',\n",
       " 'eu',\n",
       " 'aliquet',\n",
       " 'enim,',\n",
       " 'ac',\n",
       " 'maximus',\n",
       " 'orci.',\n",
       " 'Nulla',\n",
       " 'sapien',\n",
       " 'nisl,',\n",
       " 'tempor',\n",
       " 'eu',\n",
       " 'quam',\n",
       " 'id,',\n",
       " 'rutrum',\n",
       " 'commodo',\n",
       " 'elit.',\n",
       " 'Praesent',\n",
       " 'vestibulum',\n",
       " 'sem',\n",
       " 'sit',\n",
       " 'amet',\n",
       " 'metus',\n",
       " 'mollis',\n",
       " 'aliquam.',\n",
       " 'Suspendisse',\n",
       " 'id',\n",
       " 'tellus',\n",
       " 'ac',\n",
       " 'urna',\n",
       " 'commodo',\n",
       " 'vehicula',\n",
       " 'et',\n",
       " 'et',\n",
       " 'erat.',\n",
       " 'Duis',\n",
       " 'rutrum',\n",
       " 'eget',\n",
       " 'rutrum',\n",
       " 'et',\n",
       " 'facilisis.',\n",
       " 'Vivamus',\n",
       " 'faucibus',\n",
       " 'semper',\n",
       " 'justo,',\n",
       " 'quis',\n",
       " 'rutrum',\n",
       " 'turpis',\n",
       " 'cursus',\n",
       " 'id.',\n",
       " 'Suspendisse',\n",
       " 'potenti.',\n",
       " 'Curabitur',\n",
       " 'maximus',\n",
       " 'mollis',\n",
       " 'scelerisque.']"
      ]
     },
     "execution_count": 52,
     "metadata": {},
     "output_type": "execute_result"
    }
   ],
   "source": [
    "words"
   ]
  },
  {
   "cell_type": "code",
   "execution_count": 53,
   "metadata": {},
   "outputs": [
    {
     "data": {
      "text/plain": [
       "5"
      ]
     },
     "execution_count": 53,
     "metadata": {},
     "output_type": "execute_result"
    }
   ],
   "source": [
    "words.count(\"rutrum\")"
   ]
  },
  {
   "cell_type": "code",
   "execution_count": 54,
   "metadata": {},
   "outputs": [],
   "source": [
    "\n",
    "Dict = {}\n",
    "for key in words:\n",
    "    Dict[key] = words.count(key)"
   ]
  },
  {
   "cell_type": "code",
   "execution_count": 55,
   "metadata": {},
   "outputs": [
    {
     "data": {
      "text/plain": [
       "{'Phasellus': 1,\n",
       " 'hendrerit': 1,\n",
       " 'elementum': 1,\n",
       " 'nisi': 1,\n",
       " 'a': 1,\n",
       " 'vulputate.': 1,\n",
       " 'Maecenas': 1,\n",
       " 'blandit': 1,\n",
       " 'rutrum': 5,\n",
       " 'sapien,': 1,\n",
       " 'in': 1,\n",
       " 'consequat': 1,\n",
       " 'tortor': 1,\n",
       " 'congue': 1,\n",
       " 'eu.': 1,\n",
       " 'Ut': 1,\n",
       " 'eu': 2,\n",
       " 'aliquet': 1,\n",
       " 'enim,': 1,\n",
       " 'ac': 2,\n",
       " 'maximus': 2,\n",
       " 'orci.': 1,\n",
       " 'Nulla': 1,\n",
       " 'sapien': 1,\n",
       " 'nisl,': 1,\n",
       " 'tempor': 1,\n",
       " 'quam': 1,\n",
       " 'id,': 1,\n",
       " 'commodo': 2,\n",
       " 'elit.': 1,\n",
       " 'Praesent': 1,\n",
       " 'vestibulum': 1,\n",
       " 'sem': 1,\n",
       " 'sit': 1,\n",
       " 'amet': 1,\n",
       " 'metus': 1,\n",
       " 'mollis': 2,\n",
       " 'aliquam.': 1,\n",
       " 'Suspendisse': 2,\n",
       " 'id': 1,\n",
       " 'tellus': 1,\n",
       " 'urna': 1,\n",
       " 'vehicula': 1,\n",
       " 'et': 3,\n",
       " 'erat.': 1,\n",
       " 'Duis': 1,\n",
       " 'eget': 1,\n",
       " 'facilisis.': 1,\n",
       " 'Vivamus': 1,\n",
       " 'faucibus': 1,\n",
       " 'semper': 1,\n",
       " 'justo,': 1,\n",
       " 'quis': 1,\n",
       " 'turpis': 1,\n",
       " 'cursus': 1,\n",
       " 'id.': 1,\n",
       " 'potenti.': 1,\n",
       " 'Curabitur': 1,\n",
       " 'scelerisque.': 1}"
      ]
     },
     "execution_count": 55,
     "metadata": {},
     "output_type": "execute_result"
    }
   ],
   "source": [
    "Dict"
   ]
  },
  {
   "cell_type": "code",
   "execution_count": 56,
   "metadata": {},
   "outputs": [],
   "source": [
    "# fonksiyon olarak\n",
    "\n",
    "def word_count(text):\n",
    "    words = text.split()\n",
    "    Dict = {}\n",
    "    for key in words:\n",
    "        Dict[key] = words.count(key)\n",
    "    return Dict"
   ]
  },
  {
   "cell_type": "code",
   "execution_count": 57,
   "metadata": {},
   "outputs": [
    {
     "data": {
      "text/plain": [
       "{'Phasellus': 1,\n",
       " 'hendrerit': 1,\n",
       " 'elementum': 1,\n",
       " 'nisi': 1,\n",
       " 'a': 1,\n",
       " 'vulputate.': 1,\n",
       " 'Maecenas': 1,\n",
       " 'blandit': 1,\n",
       " 'rutrum': 5,\n",
       " 'sapien,': 1,\n",
       " 'in': 1,\n",
       " 'consequat': 1,\n",
       " 'tortor': 1,\n",
       " 'congue': 1,\n",
       " 'eu.': 1,\n",
       " 'Ut': 1,\n",
       " 'eu': 2,\n",
       " 'aliquet': 1,\n",
       " 'enim,': 1,\n",
       " 'ac': 2,\n",
       " 'maximus': 2,\n",
       " 'orci.': 1,\n",
       " 'Nulla': 1,\n",
       " 'sapien': 1,\n",
       " 'nisl,': 1,\n",
       " 'tempor': 1,\n",
       " 'quam': 1,\n",
       " 'id,': 1,\n",
       " 'commodo': 2,\n",
       " 'elit.': 1,\n",
       " 'Praesent': 1,\n",
       " 'vestibulum': 1,\n",
       " 'sem': 1,\n",
       " 'sit': 1,\n",
       " 'amet': 1,\n",
       " 'metus': 1,\n",
       " 'mollis': 2,\n",
       " 'aliquam.': 1,\n",
       " 'Suspendisse': 2,\n",
       " 'id': 1,\n",
       " 'tellus': 1,\n",
       " 'urna': 1,\n",
       " 'vehicula': 1,\n",
       " 'et': 3,\n",
       " 'erat.': 1,\n",
       " 'Duis': 1,\n",
       " 'eget': 1,\n",
       " 'facilisis.': 1,\n",
       " 'Vivamus': 1,\n",
       " 'faucibus': 1,\n",
       " 'semper': 1,\n",
       " 'justo,': 1,\n",
       " 'quis': 1,\n",
       " 'turpis': 1,\n",
       " 'cursus': 1,\n",
       " 'id.': 1,\n",
       " 'potenti.': 1,\n",
       " 'Curabitur': 1,\n",
       " 'scelerisque.': 1}"
      ]
     },
     "execution_count": 57,
     "metadata": {},
     "output_type": "execute_result"
    }
   ],
   "source": [
    "word_count(text)"
   ]
  },
  {
   "cell_type": "code",
   "execution_count": 58,
   "metadata": {},
   "outputs": [],
   "source": [
    "def isGoodRating(rating = 1):\n",
    "    if(rating < 7):\n",
    "        print(\"this album sucks it's rating is \", rating)\n",
    "    else: \n",
    "        print(\"this album is good its rating is \", rating)"
   ]
  },
  {
   "cell_type": "code",
   "execution_count": 59,
   "metadata": {},
   "outputs": [
    {
     "name": "stdout",
     "output_type": "stream",
     "text": [
      "this album sucks it's rating is  1\n"
     ]
    }
   ],
   "source": [
    "isGoodRating()"
   ]
  },
  {
   "cell_type": "code",
   "execution_count": 60,
   "metadata": {},
   "outputs": [
    {
     "name": "stdout",
     "output_type": "stream",
     "text": [
      "cem yılmaz is an artist\n",
      "whistney houstan is an artist\n"
     ]
    }
   ],
   "source": [
    "# global değişkenler\n",
    "\n",
    "artist = \"cem yılmaz\"\n",
    "\n",
    "def printer(artist):\n",
    "    global internal_var1 \n",
    "    internal_var1 = \"whistney houstan\"\n",
    "    print(artist, \"is an artist\")\n",
    "\n",
    "printer(artist)\n",
    "printer(internal_var1)"
   ]
  },
  {
   "cell_type": "code",
   "execution_count": 61,
   "metadata": {},
   "outputs": [
    {
     "name": "stdout",
     "output_type": "stream",
     "text": [
      "AC/DC's rating is:  10.0\n",
      "Deep Purple's rating is: 0.0\n",
      "My favorite band is: AC/DC\n"
     ]
    }
   ],
   "source": [
    " # global değişken örneği\n",
    "\n",
    "myFavoriteBand = \"AC/DC\"\n",
    "\n",
    "def getBandRating(bandname):\n",
    "    if bandname == myFavoriteBand:\n",
    "        if bandname == myFavoriteBand:\n",
    "            return 10.0\n",
    "    else:\n",
    "        return 0.0\n",
    "print(\"AC/DC's rating is: \", getBandRating(\"AC/DC\"))\n",
    "print(\"Deep Purple's rating is:\", getBandRating('Deep Purple'))\n",
    "print(\"My favorite band is:\", myFavoriteBand)"
   ]
  },
  {
   "cell_type": "code",
   "execution_count": 62,
   "metadata": {},
   "outputs": [
    {
     "name": "stdout",
     "output_type": "stream",
     "text": [
      "No of arguments 3\n",
      "horsefeather\n",
      "adonis\n",
      "bone\n",
      "No of arguments 4\n",
      "sidecar\n",
      "long ısland\n",
      "mudslide\n",
      "carriage\n"
     ]
    }
   ],
   "source": [
    "# koleksiyon ve işlevler\n",
    "    # bir fonksiyon için argüman sayısı bilinmediğinde, hepsi gösterildiği gibi bir tuple içinde paketlenebilir.\n",
    "\n",
    "\n",
    "def printAll(*args):\n",
    "    ''' \n",
    "     tüm argümanlar bir tuple gibi ele alınabilen args içinde paketlenenir.\n",
    "    '''\n",
    "    print(\"No of arguments\", len(args))\n",
    "    for argument in args:\n",
    "        print(argument)\n",
    "# printAll with 3 arguments \n",
    "printAll(\"horsefeather\", \"adonis\", \"bone\")\n",
    "# printAll with 4 arguments\n",
    "printAll(\"sidecar\", \"long ısland\", \"mudslide\", \"carriage\")\n"
   ]
  },
  {
   "cell_type": "code",
   "execution_count": 63,
   "metadata": {},
   "outputs": [
    {
     "name": "stdout",
     "output_type": "stream",
     "text": [
      "Country :  canada\n",
      "Province :  ontario\n",
      "City :  Toronoto\n"
     ]
    }
   ],
   "source": [
    "# sözlük için paketlenebilir -> dict\n",
    "def printDictionary(**args):\n",
    "    for key in args:\n",
    "        print(key + \" : \", args[key])\n",
    "\n",
    "printDictionary(Country='canada', Province='ontario', City='Toronoto')"
   ]
  },
  {
   "cell_type": "code",
   "execution_count": 64,
   "metadata": {},
   "outputs": [
    {
     "data": {
      "text/plain": [
       "['One', 'Two', 'Three', 'Four']"
      ]
     },
     "execution_count": 64,
     "metadata": {},
     "output_type": "execute_result"
    }
   ],
   "source": [
    "def addItems(list):\n",
    "    list.append(\"Three\")\n",
    "    list.append(\"Four\")\n",
    "\n",
    "myList = [\"One\", \"Two\"]\n",
    "addItems(myList)\n",
    "\n",
    "myList"
   ]
  },
  {
   "cell_type": "markdown",
   "metadata": {},
   "source": [
    "İstisna İşleme\n",
    "\n",
    "Try Except"
   ]
  },
  {
   "cell_type": "code",
   "execution_count": 65,
   "metadata": {},
   "outputs": [
    {
     "ename": "IndentationError",
     "evalue": "expected an indented block after 'try' statement on line 2 (1020162592.py, line 4)",
     "output_type": "error",
     "traceback": [
      "\u001b[1;36m  Cell \u001b[1;32mIn[65], line 4\u001b[1;36m\u001b[0m\n\u001b[1;33m    except:\u001b[0m\n\u001b[1;37m    ^\u001b[0m\n\u001b[1;31mIndentationError\u001b[0m\u001b[1;31m:\u001b[0m expected an indented block after 'try' statement on line 2\n"
     ]
    }
   ],
   "source": [
    "# try catch'ten önce potansiyel kod\n",
    "try:\n",
    "    # yürütülmeye çalışılacak kod\n",
    "except:\n",
    "    # bir istisna varsa çalıştırılacak kod\n",
    "\n",
    "#bir istisna olması durumunda hala çalışacak kod"
   ]
  },
  {
   "cell_type": "code",
   "execution_count": null,
   "metadata": {},
   "outputs": [
    {
     "name": "stdout",
     "output_type": "stream",
     "text": [
      "Success a =  0.3333333333333333\n"
     ]
    }
   ],
   "source": [
    "a = 1\n",
    "\n",
    "try:\n",
    "    b = int(input(\"please enter a number divide a\"))\n",
    "    a = a / b\n",
    "    print(\"Success a = \", a)\n",
    "except:\n",
    "    print(\"There was an error\")\n"
   ]
  },
  {
   "cell_type": "code",
   "execution_count": null,
   "metadata": {},
   "outputs": [
    {
     "name": "stdout",
     "output_type": "stream",
     "text": [
      "You did not provide a number\n"
     ]
    }
   ],
   "source": [
    "a = 1\n",
    "\n",
    "try: \n",
    "    b = int(input(\"please enter a number divide a\"))\n",
    "    a = a / b\n",
    "    print(\"Success a=\",a)\n",
    "except ZeroDivisionError:\n",
    "    print(\"The number you provided cant divide 1 because it is 0\")\n",
    "except ValueError:\n",
    "    print(\"You did not provide a number\")\n",
    "except: \n",
    "    print(\"Something went wrong\") \n",
    "    "
   ]
  },
  {
   "cell_type": "code",
   "execution_count": null,
   "metadata": {},
   "outputs": [
    {
     "name": "stdout",
     "output_type": "stream",
     "text": [
      "Success a= 0.3333333333333333\n"
     ]
    }
   ],
   "source": [
    "# Try Except Else ve Finally Örneği\n",
    "\n",
    "a = 1\n",
    "\n",
    "try: \n",
    "    b = int(input(\"please enter a number divide a\"))\n",
    "    a = a / b\n",
    "except ZeroDivisionError:\n",
    "    print(\"The number you provided cant divide 1 because it is 0\")\n",
    "except ValueError:\n",
    "    print(\"You did not provide a number\")\n",
    "except: \n",
    "    print(\"Something went wrong\") \n",
    "else: \n",
    "    print(\"Success a=\",a)\n"
   ]
  },
  {
   "cell_type": "code",
   "execution_count": null,
   "metadata": {},
   "outputs": [
    {
     "name": "stdout",
     "output_type": "stream",
     "text": [
      "Success a= 0.1\n",
      "Processing Complete\n"
     ]
    }
   ],
   "source": [
    "# Kullanıcı yanıtını işlemeyi bitirdiğimizde bildirelim.\n",
    "\n",
    "a = 1\n",
    "\n",
    "try: \n",
    "    b = int(input(\"please enter a number divide a\"))\n",
    "    a = a / b\n",
    "except ZeroDivisionError:\n",
    "    print(\"The number you provided cant divide 1 because it is 0\")\n",
    "except ValueError:\n",
    "    print(\"You did not provide a number\")\n",
    "except: \n",
    "    print(\"Something went wrong\") \n",
    "else: \n",
    "    print(\"Success a=\",a)\n",
    "finally:\n",
    "    print(\"Processing Complete\")\n",
    "\n",
    "\n"
   ]
  },
  {
   "cell_type": "markdown",
   "metadata": {},
   "source": [
    "Sınıflar ve Nesnelere Giriş\n",
    "\n",
    "Sınıf Oluşturma\n",
    "Bir sınıf oluşturmanın ilk adımı ona bir isim vermektir. Bu not defterinde iki sınıf oluşturacağız. Daire ve Dikdörtgen, bu sınıfları oluşturan ve attributes adını verdiğimiz tüm verileri belirtmemiz gerekir. Bu adımı nesneyi oluşturmak için kullanacağız.\n",
    "\n",
    "Nesneler ve Öznitelikler: class Circle (object)\n",
    "\n",
    "Bir sonraki adım, nesneyi başlatmak için kullanılan __init__ yapıcı adı verilen özel bir yöntemdir. Girdiler veri nitelikleridir. self terimi kümüdeki tüm nitelikleri içerir. Örneğin self.color, color niteliğinin değerini verir ve self.radius size nesnenin yarıçağını verecektir.\n",
    "\n",
    "Ayrıca r parametresine sahip add_radius() metodumuz vardır, bu metot r değerini radius niteliği ekler. Yarıçapı erişmek için self.radius sözdizimi kullanırız. \n",
    "\n",
    "class Circle (object):\n",
    "\n",
    "    def ___İnit__(self, radius, color):\n",
    "        self.radius = radius;\n",
    "        self.color = color;\n",
    "\n",
    "    def add_radius(self, r):\n",
    "        self.radius = self.radius + r\n",
    "            return(self.radius)"
   ]
  },
  {
   "cell_type": "code",
   "execution_count": null,
   "metadata": {},
   "outputs": [],
   "source": [
    "# Bir dairenin görüntüsünü görüntülemek için drawCircle yöntemini dahil ediyoruz. Varsasyılan yarıçapı 3 ve varsayılan rengi mavi olarak ayarladık.\n",
    "\n",
    "import matplotlib.pyplot as plt\n",
    "\n",
    "class Circle(object):\n",
    "\n",
    "    #Constructor\n",
    "    def __init__(self, radius=3, color=\"blue\"):\n",
    "        self.radius = radius\n",
    "        self.color = color\n",
    "\n",
    "    #Method\n",
    "    def add_radius(self,r ):\n",
    "        self.radius = self.radius + r\n",
    "        return(self.radius)\n",
    "    \n",
    "    #Method\n",
    "    def drawCircle(self):\n",
    "        plt.gca().add_patch(plt.Circle((0,0), radius=self.radius, fc=self.color))\n",
    "        plt.axis('scaled')\n",
    "        plt.show()"
   ]
  },
  {
   "cell_type": "code",
   "execution_count": null,
   "metadata": {},
   "outputs": [],
   "source": [
    "# Circle sınıfının örneğini oluşturma\n",
    "\n",
    "RedCircle = Circle(10,'red')"
   ]
  },
  {
   "cell_type": "code",
   "execution_count": null,
   "metadata": {},
   "outputs": [
    {
     "data": {
      "text/plain": [
       "'red'"
      ]
     },
     "execution_count": 3,
     "metadata": {},
     "output_type": "execute_result"
    }
   ],
   "source": [
    "RedCircle.color"
   ]
  },
  {
   "cell_type": "code",
   "execution_count": null,
   "metadata": {},
   "outputs": [
    {
     "data": {
      "text/plain": [
       "['__class__',\n",
       " '__delattr__',\n",
       " '__dict__',\n",
       " '__dir__',\n",
       " '__doc__',\n",
       " '__eq__',\n",
       " '__format__',\n",
       " '__ge__',\n",
       " '__getattribute__',\n",
       " '__getstate__',\n",
       " '__gt__',\n",
       " '__hash__',\n",
       " '__init__',\n",
       " '__init_subclass__',\n",
       " '__le__',\n",
       " '__lt__',\n",
       " '__module__',\n",
       " '__ne__',\n",
       " '__new__',\n",
       " '__reduce__',\n",
       " '__reduce_ex__',\n",
       " '__repr__',\n",
       " '__setattr__',\n",
       " '__sizeof__',\n",
       " '__str__',\n",
       " '__subclasshook__',\n",
       " '__weakref__',\n",
       " 'add_radius',\n",
       " 'color',\n",
       " 'drawCircle',\n",
       " 'radius']"
      ]
     },
     "execution_count": 4,
     "metadata": {},
     "output_type": "execute_result"
    }
   ],
   "source": [
    "# nesne üzerinde kullanılabilecek yöntemler\n",
    "dir(RedCircle)"
   ]
  },
  {
   "cell_type": "code",
   "execution_count": null,
   "metadata": {},
   "outputs": [
    {
     "data": {
      "text/plain": [
       "10"
      ]
     },
     "execution_count": 5,
     "metadata": {},
     "output_type": "execute_result"
    }
   ],
   "source": [
    "# nesnenin özelliğine bakılabilir\n",
    "RedCircle.radius"
   ]
  },
  {
   "cell_type": "code",
   "execution_count": null,
   "metadata": {},
   "outputs": [
    {
     "data": {
      "text/plain": [
       "1"
      ]
     },
     "execution_count": 6,
     "metadata": {},
     "output_type": "execute_result"
    }
   ],
   "source": [
    "#nesnenin özniteliğini yarıçapını güncelleyebilirisiniz\n",
    "\n",
    "RedCircle.radius = 1\n",
    "RedCircle.radius"
   ]
  },
  {
   "cell_type": "code",
   "execution_count": null,
   "metadata": {},
   "outputs": [
    {
     "data": {
      "image/png": "[encoded data removed]",
      "text/plain": [
       "<Figure size 640x480 with 1 Axes>"
      ]
     },
     "metadata": {},
     "output_type": "display_data"
    }
   ],
   "source": [
    "#drawCircle yöntemini kullanarak nesneyi çizebilirsiniz\n",
    "RedCircle.drawCircle()"
   ]
  },
  {
   "cell_type": "code",
   "execution_count": null,
   "metadata": {},
   "outputs": [
    {
     "name": "stdout",
     "output_type": "stream",
     "text": [
      "radius of object:  1\n",
      "radius of object of after applying the method add_radius(2): 3\n",
      "radius of object of after applying the method add_radius(5): 8\n"
     ]
    }
   ],
   "source": [
    "print('radius of object: ', RedCircle.radius)\n",
    "RedCircle.add_radius(2)\n",
    "print('radius of object of after applying the method add_radius(2):', RedCircle.radius)\n",
    "\n",
    "RedCircle.add_radius(5)\n",
    "print('radius of object of after applying the method add_radius(5):', RedCircle.radius)"
   ]
  },
  {
   "cell_type": "markdown",
   "metadata": {},
   "source": [
    "The Rectangle Class\n",
    "Yükseklik, genişlik ve renk özelliklerine sahip bir dikdörtgen sınıfı oluşturun ve dikdörtgen çizmek için yöntem ekle"
   ]
  },
  {
   "cell_type": "code",
   "execution_count": 70,
   "metadata": {},
   "outputs": [],
   "source": [
    "import matplotlib.pyplot as plt\n",
    "from matplotlib.patches import Rectangle\n",
    "class Rectangle(object):\n",
    "    def __init__(self,height=3, width=2, color=\"r\"):\n",
    "        self.height = height\n",
    "        self.width = width\n",
    "        self.color = color\n",
    "\n",
    "    # Method\n",
    "    def drawRectangle(self):\n",
    "        plt.gca().add_patch.Rectangle((0,0), self.width, self.height, fc=self.color)\n",
    "        plt.axis('scaled')\n",
    "        plt.show()"
   ]
  },
  {
   "cell_type": "code",
   "execution_count": 71,
   "metadata": {},
   "outputs": [],
   "source": [
    "# Yeni bir nesne dikdörtgeni oluşturalım\n",
    "\n",
    "SkinnyBlueRectangle = Rectangle(2,3,\"blue\")"
   ]
  },
  {
   "cell_type": "code",
   "execution_count": 72,
   "metadata": {},
   "outputs": [
    {
     "data": {
      "text/plain": [
       "'blue'"
      ]
     },
     "execution_count": 72,
     "metadata": {},
     "output_type": "execute_result"
    }
   ],
   "source": [
    "SkinnyBlueRectangle.color"
   ]
  },
  {
   "cell_type": "code",
   "execution_count": 74,
   "metadata": {},
   "outputs": [
    {
     "data": {
      "text/plain": [
       "3"
      ]
     },
     "execution_count": 74,
     "metadata": {},
     "output_type": "execute_result"
    }
   ],
   "source": [
    "SkinnyBlueRectangle.width"
   ]
  },
  {
   "cell_type": "code",
   "execution_count": 78,
   "metadata": {},
   "outputs": [
    {
     "data": {
      "image/png": "[encoded data removed]",
      "text/plain": [
       "<Figure size 640x480 with 1 Axes>"
      ]
     },
     "metadata": {},
     "output_type": "display_data"
    }
   ],
   "source": [
    "import matplotlib.pyplot as plt\n",
    "from matplotlib.patches import Rectangle\n",
    "\n",
    "class RectangleShape(object): \n",
    "    def __init__(self, height=3, width=2, color=\"r\"):\n",
    "        self.height = height\n",
    "        self.width = width\n",
    "        self.color = color\n",
    "\n",
    "    def drawRectangle(self):\n",
    "        \n",
    "        plt.gca().add_patch(Rectangle((0, 0), self.width, self.height, fc=self.color))\n",
    "        plt.axis('scaled')\n",
    "        plt.show()\n",
    "\n",
    "# Örnek kullanım:\n",
    "SkinnyBlueRectangle = RectangleShape(10, 2, 'blue')\n",
    "SkinnyBlueRectangle.drawRectangle()\n"
   ]
  },
  {
   "cell_type": "code",
   "execution_count": null,
   "metadata": {},
   "outputs": [],
   "source": []
  }
 ],
 "metadata": {
  "kernelspec": {
   "display_name": "Python 3",
   "language": "python",
   "name": "python3"
  },
  "language_info": {
   "codemirror_mode": {
    "name": "ipython",
    "version": 3
   },
   "file_extension": ".py",
   "mimetype": "text/x-python",
   "name": "python",
   "nbconvert_exporter": "python",
   "pygments_lexer": "ipython3",
   "version": "3.12.3"
  }
 },
 "nbformat": 4,
 "nbformat_minor": 2
}
